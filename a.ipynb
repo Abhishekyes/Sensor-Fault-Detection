{
 "cells": [
  {
   "cell_type": "code",
   "execution_count": 1,
   "metadata": {},
   "outputs": [
    {
     "data": {
      "text/plain": [
       "'c:\\\\VE\\\\Scratch Pad\\\\AI_PRACTICE\\\\Projects\\\\Sensor-Fault-detection\\\\Sensor-Fault-Detection'"
      ]
     },
     "execution_count": 1,
     "metadata": {},
     "output_type": "execute_result"
    }
   ],
   "source": [
    "pwd\n"
   ]
  },
  {
   "cell_type": "code",
   "execution_count": 2,
   "metadata": {},
   "outputs": [],
   "source": [
    "import pandas as pd"
   ]
  },
  {
   "cell_type": "code",
   "execution_count": 4,
   "metadata": {},
   "outputs": [
    {
     "name": "stdout",
     "output_type": "stream",
     "text": [
      "Collecting PyYAML\n",
      "  Obtaining dependency information for PyYAML from https://files.pythonhosted.org/packages/29/0f/9782fa5b10152abf033aec56a601177ead85ee03b57781f2d9fced09eefc/PyYAML-6.0.1-cp38-cp38-win_amd64.whl.metadata\n",
      "  Using cached PyYAML-6.0.1-cp38-cp38-win_amd64.whl.metadata (2.1 kB)\n",
      "Using cached PyYAML-6.0.1-cp38-cp38-win_amd64.whl (157 kB)\n",
      "Installing collected packages: PyYAML\n",
      "Successfully installed PyYAML-6.0.1\n",
      "Note: you may need to restart the kernel to use updated packages.\n"
     ]
    }
   ],
   "source": [
    "pip install PyYAML"
   ]
  },
  {
   "cell_type": "code",
   "execution_count": 5,
   "metadata": {},
   "outputs": [],
   "source": [
    "import yaml"
   ]
  },
  {
   "cell_type": "code",
   "execution_count": 9,
   "metadata": {},
   "outputs": [
    {
     "name": "stdout",
     "output_type": "stream",
     "text": [
      "Collecting dill\n",
      "  Obtaining dependency information for dill from https://files.pythonhosted.org/packages/f5/3a/74a29b11cf2cdfcd6ba89c0cecd70b37cd1ba7b77978ce611eb7a146a832/dill-0.3.7-py3-none-any.whl.metadata\n",
      "  Downloading dill-0.3.7-py3-none-any.whl.metadata (9.9 kB)\n",
      "Downloading dill-0.3.7-py3-none-any.whl (115 kB)\n",
      "   ---------------------------------------- 0.0/115.3 kB ? eta -:--:--\n",
      "   ------------- ------------------------- 41.0/115.3 kB 991.0 kB/s eta 0:00:01\n",
      "   ---------------------------------------  112.6/115.3 kB 2.2 MB/s eta 0:00:01\n",
      "   ---------------------------------------- 115.3/115.3 kB 1.1 MB/s eta 0:00:00\n",
      "Installing collected packages: dill\n",
      "Successfully installed dill-0.3.7\n",
      "Note: you may need to restart the kernel to use updated packages.\n"
     ]
    }
   ],
   "source": [
    "pip install dill"
   ]
  },
  {
   "cell_type": "code",
   "execution_count": 10,
   "metadata": {},
   "outputs": [],
   "source": [
    "import dill"
   ]
  },
  {
   "cell_type": "code",
   "execution_count": 11,
   "metadata": {},
   "outputs": [],
   "source": [
    "from sensor.utils.main_utils import write_yaml_file"
   ]
  },
  {
   "cell_type": "code",
   "execution_count": 13,
   "metadata": {},
   "outputs": [],
   "source": [
    "path = r\"C:\\VE\\Scratch Pad\\AI_PRACTICE\\Projects\\Sensor-Fault-detection\\Sensor-Fault-Detection\\data\\sensor_data.csv\""
   ]
  },
  {
   "cell_type": "code",
   "execution_count": 15,
   "metadata": {},
   "outputs": [
    {
     "data": {
      "text/plain": [
       "class     object\n",
       "aa_000     int64\n",
       "ab_000    object\n",
       "ac_000    object\n",
       "ad_000    object\n",
       "           ...  \n",
       "ee_007    object\n",
       "ee_008    object\n",
       "ee_009    object\n",
       "ef_000    object\n",
       "eg_000    object\n",
       "Length: 171, dtype: object"
      ]
     },
     "execution_count": 15,
     "metadata": {},
     "output_type": "execute_result"
    }
   ],
   "source": [
    "df = pd.read_csv(path)\n",
    "df.dtypes"
   ]
  },
  {
   "cell_type": "code",
   "execution_count": 18,
   "metadata": {},
   "outputs": [
    {
     "name": "stdout",
     "output_type": "stream",
     "text": [
      "Index(['class', 'aa_000', 'ab_000', 'ac_000', 'ad_000', 'ae_000', 'af_000',\n",
      "       'ag_000', 'ag_001', 'ag_002',\n",
      "       ...\n",
      "       'ee_002', 'ee_003', 'ee_004', 'ee_005', 'ee_006', 'ee_007', 'ee_008',\n",
      "       'ee_009', 'ef_000', 'eg_000'],\n",
      "      dtype='object', length=171)\n",
      "<class 'pandas.core.frame.DataFrame'>\n"
     ]
    }
   ],
   "source": [
    "print(df.columns)\n",
    "print(type(df))"
   ]
  },
  {
   "cell_type": "code",
   "execution_count": null,
   "metadata": {},
   "outputs": [],
   "source": []
  },
  {
   "cell_type": "code",
   "execution_count": 19,
   "metadata": {},
   "outputs": [
    {
     "ename": "SensorException",
     "evalue": "Error occurred python script name [c:\\VE\\Scratch Pad\\AI_PRACTICE\\Projects\\Sensor-Fault-detection\\Sensor-Fault-Detection\\sensor\\utils\\main_utils.py] line number [21] error message [[WinError 3] The system cannot find the path specified: '']",
     "output_type": "error",
     "traceback": [
      "\u001b[1;31m---------------------------------------------------------------------------\u001b[0m",
      "\u001b[1;31mFileNotFoundError\u001b[0m                         Traceback (most recent call last)",
      "File \u001b[1;32mc:\\VE\\Scratch Pad\\AI_PRACTICE\\Projects\\Sensor-Fault-detection\\Sensor-Fault-Detection\\sensor\\utils\\main_utils.py:21\u001b[0m, in \u001b[0;36mwrite_yaml_file\u001b[1;34m(file_path, content, replace)\u001b[0m\n\u001b[0;32m     20\u001b[0m         os\u001b[39m.\u001b[39mremove(file_path)\n\u001b[1;32m---> 21\u001b[0m os\u001b[39m.\u001b[39;49mmakedirs(os\u001b[39m.\u001b[39;49mpath\u001b[39m.\u001b[39;49mdirname(file_path), exist_ok\u001b[39m=\u001b[39;49m\u001b[39mTrue\u001b[39;49;00m)\n\u001b[0;32m     22\u001b[0m \u001b[39mwith\u001b[39;00m \u001b[39mopen\u001b[39m(file_path, \u001b[39m\"\u001b[39m\u001b[39mw\u001b[39m\u001b[39m\"\u001b[39m) \u001b[39mas\u001b[39;00m file:\n",
      "File \u001b[1;32mc:\\Users\\ABHISHEK\\Desktop\\proj\\Sensor-Fault-Det\\venv\\lib\\os.py:223\u001b[0m, in \u001b[0;36mmakedirs\u001b[1;34m(name, mode, exist_ok)\u001b[0m\n\u001b[0;32m    222\u001b[0m \u001b[39mtry\u001b[39;00m:\n\u001b[1;32m--> 223\u001b[0m     mkdir(name, mode)\n\u001b[0;32m    224\u001b[0m \u001b[39mexcept\u001b[39;00m \u001b[39mOSError\u001b[39;00m:\n\u001b[0;32m    225\u001b[0m     \u001b[39m# Cannot rely on checking for EEXIST, since the operating system\u001b[39;00m\n\u001b[0;32m    226\u001b[0m     \u001b[39m# could give priority to other errors like EACCES or EROFS\u001b[39;00m\n",
      "\u001b[1;31mFileNotFoundError\u001b[0m: [WinError 3] The system cannot find the path specified: ''",
      "\nDuring handling of the above exception, another exception occurred:\n",
      "\u001b[1;31mSensorException\u001b[0m                           Traceback (most recent call last)",
      "\u001b[1;32mc:\\VE\\Scratch Pad\\AI_PRACTICE\\Projects\\Sensor-Fault-detection\\Sensor-Fault-Detection\\a.ipynb Cell 12\u001b[0m line \u001b[0;36m1\n\u001b[1;32m----> <a href='vscode-notebook-cell:/c%3A/VE/Scratch%20Pad/AI_PRACTICE/Projects/Sensor-Fault-detection/Sensor-Fault-Detection/a.ipynb#W5sZmlsZQ%3D%3D?line=0'>1</a>\u001b[0m write_yaml_file(file_path\u001b[39m=\u001b[39;49m\u001b[39m\"\u001b[39;49m\u001b[39msen.yaml\u001b[39;49m\u001b[39m\"\u001b[39;49m,content\u001b[39m=\u001b[39;49m\u001b[39m\"\u001b[39;49m\u001b[39mdf.dtypes\u001b[39;49m\u001b[39m\"\u001b[39;49m)\n",
      "File \u001b[1;32mc:\\VE\\Scratch Pad\\AI_PRACTICE\\Projects\\Sensor-Fault-detection\\Sensor-Fault-Detection\\sensor\\utils\\main_utils.py:25\u001b[0m, in \u001b[0;36mwrite_yaml_file\u001b[1;34m(file_path, content, replace)\u001b[0m\n\u001b[0;32m     23\u001b[0m         yaml\u001b[39m.\u001b[39mdump(content, file)\n\u001b[0;32m     24\u001b[0m \u001b[39mexcept\u001b[39;00m \u001b[39mException\u001b[39;00m \u001b[39mas\u001b[39;00m e:\n\u001b[1;32m---> 25\u001b[0m     \u001b[39mraise\u001b[39;00m SensorException(e, sys)\n",
      "\u001b[1;31mSensorException\u001b[0m: Error occurred python script name [c:\\VE\\Scratch Pad\\AI_PRACTICE\\Projects\\Sensor-Fault-detection\\Sensor-Fault-Detection\\sensor\\utils\\main_utils.py] line number [21] error message [[WinError 3] The system cannot find the path specified: '']"
     ]
    }
   ],
   "source": [
    "write_yaml_file(file_path=\"sen.yaml\",content=\"df.dtypes\")"
   ]
  },
  {
   "cell_type": "code",
   "execution_count": 20,
   "metadata": {},
   "outputs": [
    {
     "name": "stdout",
     "output_type": "stream",
     "text": [
      "YAML file 'data_types.yaml' has been created.\n"
     ]
    }
   ],
   "source": [
    "import pandas as pd\n",
    "import yaml\n",
    "\n",
    "# Convert column names and data types to a dictionary\n",
    "dtypes_dict = df.dtypes.apply(lambda x: x.name).to_dict()\n",
    "\n",
    "# Convert the dictionary to YAML\n",
    "yaml_content = yaml.dump(dtypes_dict, default_style='|')\n",
    "\n",
    "# Write the YAML content to a file\n",
    "file_path = \"data_types.yaml\"\n",
    "with open(file_path, \"w\") as file:\n",
    "    file.write(yaml_content)\n",
    "\n",
    "print(f\"YAML file '{file_path}' has been created.\")\n"
   ]
  },
  {
   "cell_type": "code",
   "execution_count": 22,
   "metadata": {},
   "outputs": [
    {
     "name": "stdout",
     "output_type": "stream",
     "text": [
      "YAML file 'data_structure.yaml' has been created.\n"
     ]
    }
   ],
   "source": [
    "import pandas as pd\n",
    "import yaml\n",
    "\n",
    "\n",
    "\n",
    "# Extract column names and their data types\n",
    "column_names = df.columns.tolist()\n",
    "column_types = df.dtypes.apply(lambda x: x.name).tolist()\n",
    "\n",
    "# Create a dictionary with the structure you want\n",
    "yaml_dict = {\n",
    "    'columns': ['class: category'] + [f'{col}: {col_type}' for col, col_type in zip(column_names, column_types)],\n",
    "    'numerical_columns': column_names,\n",
    "    'drop_columns': ['br_000', 'bq_000', 'bp_000', 'ab_000', 'cr_000', 'bo_000', 'bn_000']\n",
    "}\n",
    "\n",
    "# Convert the dictionary to YAML\n",
    "yaml_content = yaml.dump(yaml_dict)\n",
    "\n",
    "# Write the YAML content to a file\n",
    "file_path = \"data_structure.yaml\"\n",
    "with open(file_path, \"w\") as file:\n",
    "    file.write(yaml_content)\n",
    "\n",
    "print(f\"YAML file '{file_path}' has been created.\")\n"
   ]
  },
  {
   "cell_type": "code",
   "execution_count": null,
   "metadata": {},
   "outputs": [],
   "source": []
  }
 ],
 "metadata": {
  "kernelspec": {
   "display_name": "Python 3",
   "language": "python",
   "name": "python3"
  },
  "language_info": {
   "codemirror_mode": {
    "name": "ipython",
    "version": 3
   },
   "file_extension": ".py",
   "mimetype": "text/x-python",
   "name": "python",
   "nbconvert_exporter": "python",
   "pygments_lexer": "ipython3",
   "version": "3.8.18"
  }
 },
 "nbformat": 4,
 "nbformat_minor": 2
}
